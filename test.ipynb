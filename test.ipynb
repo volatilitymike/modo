import yfinance as yf

ticker= 'BTC-USD'

data=yf.Ticker(ticker).history(period='5y')
print(data.head())

